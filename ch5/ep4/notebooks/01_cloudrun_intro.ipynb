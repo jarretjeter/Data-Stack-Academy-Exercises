{
 "cells": [
  {
   "cell_type": "markdown",
   "metadata": {},
   "source": [
    "# Chapter 5, Episode 4 - Basic Cloud Run Service"
   ]
  },
  {
   "cell_type": "markdown",
   "metadata": {},
   "source": [
    "## Overview\n",
    "\n",
    "1. Create a basic flask app container\n",
    "1. Deploy to Google Cloud Run (GCR)\n"
   ]
  },
  {
   "cell_type": "markdown",
   "metadata": {},
   "source": [
    "## Flask App Container\n",
    "\n",
    "Take a look at `/docker/ex1/main.py`, which includes:\n",
    "\n",
    "- a basic flask app\n",
    "- responds to HTTP GET request with a name\n",
    "\n",
    "Take a look at `docker/ex1/Dockerfile`:\n",
    "\n",
    "- Creates a docker image running the flask app using a **gunicorn** server\n"
   ]
  },
  {
   "cell_type": "markdown",
   "metadata": {},
   "source": [
    "## Local Docker Build\n",
    "\n",
    "Build and run the container locally:\n",
    "\n",
    "```bash\n",
    "\n",
    "cd docker/ex1\n",
    "\n",
    "# build the image\n",
    "docker build -t dsa-gcr-ex1 .\n",
    "\n",
    "# run the container locally\n",
    "docker run -d -p 8080:8080 --name say-hello dsa-gcr-ex1\n",
    "\n",
    "# test your application\n",
    "curl --location --request GET 'http://localhost:8080/?name=ME'\n",
    "```\n",
    "\n",
    "Open your browser: [http://localhost:8080/?name=ME](http://localhost:8080/?name=ME)\n"
   ]
  },
  {
   "cell_type": "markdown",
   "metadata": {},
   "source": [
    "## Deploy to Google Cloud Run\n",
    "\n",
    "First [Enable](https://cloud.google.com/endpoints/docs/openapi/enable-api) Cloud Run and Container Registry API for your project.\n",
    "\n",
    "Set gcloud project:\n",
    "\n",
    "```bash\n",
    "# set your gcp project name\n",
    "glcoud config set project <YOUR_PROJECT>\n",
    "\n",
    "# enable gcr and container registry apis\n",
    "gcloud services enable run.googleapis.com\n",
    "gcloud services enable containerregistry.googleapis.com`\n",
    "```\n",
    "\n",
    "Build and deploy your image to GCP:\n",
    "\n",
    "```bash\n",
    "gcloud builds submit --tag gcr.io/<YOUR_PROJECT>/dsa-gcr-ex1\n",
    "```\n",
    "\n",
    "Deploy the container to GCR:\n",
    "\n",
    "```bash\n",
    "gcloud run deploy dsa-gcr-ex1-container --image=gcr.io/<YOUR_PROJECT>/dsa-gcr-ex1 --region=${GCP_REGION} --platform=managed --max-instances=1 --min-instances=0 --allow-unauthenticated\n",
    "```\n",
    "\n",
    "**NOTE:**\n",
    "- replace <YOUR_PROJECT> with your gcp project name\n",
    "- the first argument to the `deploy` command is the name of your service (ie: dsa-gcr-ex1-container)\n",
    "- image is the tag name that you specified in the previous step (ie: gcr.io/<YOU PROJECT>/c4e4-ex1)\n",
    "- change the region based on your location\n"
   ]
  },
  {
   "cell_type": "markdown",
   "metadata": {},
   "source": [
    "## Connect to your Service\n",
    "\n",
    "You can list your GCR services like this:\n",
    "\n",
    "```bash\n",
    "gcloud run services list --platform=managed\n",
    "\n",
    "   SERVICE                REGION       URL                                                    LAST DEPLOYED BY  LAST DEPLOYED AT\n",
    "✔  dsa-gcr-ex1-container  us-central1  https://dsa-gcr-ex1-container-cty375loia-uc.a.run.app  **************    *********T00:12:20.531710Z\n",
    "```\n",
    "\n",
    "Use your browser to access your service URL: [https://dsa-gcr-ex1-container-cty375loia-uc.a.run.app?name=ME](https://dsa-gcr-ex1-container-cty375loia-uc.a.run.app?name=ME).\n",
    "\n"
   ]
  },
  {
   "cell_type": "markdown",
   "metadata": {},
   "source": [
    "## Delete your Service\n",
    "\n",
    "Delete your service:\n",
    "\n",
    "```bash\n",
    "# delete your container from gcr\n",
    "gcloud run services delete dsa-gcr-ex1-container --platform=managed --region=us-central1\n",
    "\n",
    "# delete your image from container registry\n",
    "gcloud container images delete gcr.io/deb-01/dsa-gcr-ex1\n",
    "```\n"
   ]
  },
  {
   "cell_type": "markdown",
   "metadata": {},
   "source": [
    "### Further Reading\n",
    "- [Google Cloud Run (GCR) documentation](https://cloud.google.com/run/docs)\n",
    "- [Docker Python image documentation](https://docs.docker.com/language/python/build-images/)"
   ]
  }
 ],
 "metadata": {
  "language_info": {
   "codemirror_mode": {
    "name": "ipython",
    "version": 3
   },
   "file_extension": ".py",
   "mimetype": "text/x-python",
   "name": "python",
   "nbconvert_exporter": "python",
   "pygments_lexer": "ipython3",
   "version": 3
  },
  "orig_nbformat": 2
 },
 "nbformat": 4,
 "nbformat_minor": 2
}
