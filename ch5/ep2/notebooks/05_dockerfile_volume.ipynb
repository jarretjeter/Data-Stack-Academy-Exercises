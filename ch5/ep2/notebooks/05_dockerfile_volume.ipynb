{
 "cells": [
  {
   "cell_type": "markdown",
   "metadata": {},
   "source": [
    "# Dockerfile VOLUME"
   ]
  },
  {
   "cell_type": "markdown",
   "metadata": {},
   "source": [
    "_Dockerfile_ provides an instruction called `VOLUME` to allow users to configure storage volumes for their image to persist data in between container runs. The [_VOLUME_](https://docs.docker.com/develop/develop-images/dockerfile_best-practices/#volume) instruction create a new docker volume and mounts it onto your image at a specific directory. The image (container) can use this directory to store files which persist in between _docker runs_.\n",
    "\n",
    "Take a look at _data/ex5/main.py_. We've enhanced our script to use a sqlite3 database to store the commands that have previously ran through our script. This is to give our script history; very similar to the bash terminal `history` command. The script has a new command line argument called `-d` which specifies the location of our sqlite3 database to store the historical commands.\n",
    "\n",
    "In to save the command history, we've added a new class called `HistoryStore` with the following members:\n",
    "\n",
    "- `init_db()`: creates a sqlite3 `history` table with 3 columns: *id,cmd,exec_time*\n",
    "- `insert()`: inserts a row into history tables. cmd = list of command line args, exec_time = now\n",
    "- `history()`: returns the last N rows from the history file in ascending order by id\n",
    "- `stat()`: computes some stats of the history table: num of rows and last exec_time\n",
    "\n",
    "Start a fresh directory and copy over our source files:"
   ]
  },
  {
   "cell_type": "code",
   "execution_count": null,
   "metadata": {},
   "outputs": [],
   "source": [
    "mkdir docker/my-ex5\n",
    "cp -r docker/ex5/* docker/my-ex5/"
   ]
  },
  {
   "cell_type": "markdown",
   "metadata": {},
   "source": [
    "Modify the _Dockerfile_ to include:"
   ]
  },
  {
   "cell_type": "code",
   "execution_count": null,
   "metadata": {},
   "outputs": [],
   "source": [
    "FROM python:3.7.10-slim-buster\n",
    "\n",
    "# adding env variables\n",
    "ENV INPUT_FILE=\"/home/deb-airports.csv\" \\\n",
    "    NUM_ROWS=10\n",
    "\n",
    "# set the working directory\n",
    "WORKDIR /home\n",
    "\n",
    "# add source files to the image\n",
    "COPY * /home/\n",
    "\n",
    "# install pip requirements\n",
    "RUN pip3 install -r requirements.txt\n",
    "\n",
    "# create a volume and initialize the history sqlite3 database\n",
    "RUN mkdir /data\n",
    "# initialize the sqlite database by calling the very first command: version\n",
    "RUN python main.py -d /data/history.db version\n",
    "# add the volume\n",
    "# this will persist the /data directory as a volume going forward\n",
    "VOLUME [ \"/data\" ]\n",
    "\n",
    "# add an ENTRYPOINT\n",
    "ENTRYPOINT [\"python\", \"main.py\", \"-d\", \"/data/history.db\"]\n",
    "CMD [\"print\"]"
   ]
  },
  {
   "cell_type": "markdown",
   "metadata": {},
   "source": [
    "**NOTE**:\n",
    "\n",
    "1. We first create a directory called _/data_ and run our script once to initialize it with the very first history command\n",
    "1. This will create a sqlite3 database under _/data/history.db_ and the version command into its history table\n",
    "1. We then use the `VOLUME` command to persist this directory as a docker volume\n",
    "1. The `VOLUME [ \"/data\" ]` command will persist the content of our _/data_ folder in between container runs\n",
    "\n",
    "Build and run the image and observer the history behavior:"
   ]
  },
  {
   "cell_type": "code",
   "execution_count": null,
   "metadata": {},
   "outputs": [],
   "source": [
    "cd docker/my-ex5\n",
    "\n",
    "# build your image\n",
    "docker build --rm -f Dockerfile -t dsa-deb-docker:ex5 .\n",
    "\n",
    "# create a volume\n",
    "docker volume create history-db\n",
    "\n",
    "\n",
    "# run the container a few times\n",
    "# the history is saved in between runs\n",
    "docker run --rm -v history-db:/data dsa-deb-docker:ex5 history\n",
    "docker run --rm -v history-db:/data dsa-deb-docker:ex5 print -n 25 -fs NY\n",
    "docker run --rm -v history-db:/data dsa-deb-docker:ex5 print -n 10 -fs OR\n",
    "docker run --rm -v history-db:/data dsa-deb-docker:ex5 print -n 30 -fs CA\n",
    "docker run --rm -v history-db:/data dsa-deb-docker:ex5 history"
   ]
  },
  {
   "cell_type": "markdown",
   "metadata": {},
   "source": [
    "**NOTE:**\n",
    "\n",
    "Even though you specified a _VOLUME_ command in your Dockerfile, you still need to create a docker volume and pass it to your docker run! YES, it's stupid 😟️"
   ]
  }
 ],
 "metadata": {
  "kernelspec": {
   "display_name": "venv",
   "language": "python",
   "name": "venv"
  },
  "language_info": {
   "codemirror_mode": {
    "name": "ipython",
    "version": 3
   },
   "file_extension": ".py",
   "mimetype": "text/x-python",
   "name": "python",
   "nbconvert_exporter": "python",
   "pygments_lexer": "ipython3",
   "version": "3.7.10"
  }
 },
 "nbformat": 4,
 "nbformat_minor": 5
}
