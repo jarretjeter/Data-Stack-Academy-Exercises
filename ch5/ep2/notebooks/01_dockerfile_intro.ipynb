{
 "cells": [
  {
   "cell_type": "markdown",
   "metadata": {},
   "source": [
    "# Dockerfile Example 1\n",
    "\n",
    "In this exercise, you'll learn how to build a simple docker image that runs a simple python script. This image will:\n",
    "\n",
    "1. Base from python:3.7 base docker image\n",
    "1. Adds a simple python script along with a data file\n",
    "1. Runs the python script upon executing docker run\n",
    "\n",
    "It's best practice to start a dockerfile build from an empty directory. \n",
    "\n",
    "Create an empty directory and copy source files into it:"
   ]
  },
  {
   "cell_type": "code",
   "execution_count": null,
   "metadata": {},
   "outputs": [],
   "source": [
    "# make an empty directory\n",
    "mkdir -p docker/my-ex1\n",
    "\n",
    "# copy source files\n",
    "cp docker/ex1/main.py docker/ex1/names.txt docker/my-ex1/"
   ]
  },
  {
   "cell_type": "markdown",
   "metadata": {},
   "source": [
    "Now create an empty file called `Dockerfile` under _docker/my-ex1/_ and add the following instructions:"
   ]
  },
  {
   "cell_type": "code",
   "execution_count": null,
   "metadata": {},
   "outputs": [],
   "source": [
    "# base from python3.7 image\n",
    "FROM python:3.7.10-slim-buster\n",
    "\n",
    "# set the working directory\n",
    "WORKDIR /home\n",
    "\n",
    "# copy files and scripts from local folder into the container\n",
    "COPY names.txt main.py ./\n",
    "\n",
    "# set the default command to execute with docker run\n",
    "CMD [\"python\", \"main.py\"]"
   ]
  },
  {
   "cell_type": "markdown",
   "metadata": {},
   "source": [
    "Build and run your image:"
   ]
  },
  {
   "cell_type": "code",
   "execution_count": null,
   "metadata": {},
   "outputs": [],
   "source": [
    "# go to the directory where your Dockerfile exists\n",
    "cd docker/my-ext1\n",
    "\n",
    "# build and tag your image\n",
    "docker build --rm -f Dockerfile -t dsa-deb-dockerfile-intro:ex1 .\n",
    "\n",
    "# list your images and see that your image is there\n",
    "docker images\n",
    "\n",
    "# run your container\n",
    "docker run --rm dsa-deb-dockerfile-intro:ex1"
   ]
  }
 ],
 "metadata": {
  "kernelspec": {
   "display_name": "venv",
   "language": "python",
   "name": "venv"
  },
  "language_info": {
   "codemirror_mode": {
    "name": "ipython",
    "version": 3
   },
   "file_extension": ".py",
   "mimetype": "text/x-python",
   "name": "python",
   "nbconvert_exporter": "python",
   "pygments_lexer": "ipython3",
   "version": "3.7.10"
  }
 },
 "nbformat": 4,
 "nbformat_minor": 5
}
