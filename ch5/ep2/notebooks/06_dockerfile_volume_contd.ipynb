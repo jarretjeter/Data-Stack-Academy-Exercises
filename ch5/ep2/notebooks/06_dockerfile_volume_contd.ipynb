{
 "cells": [
  {
   "cell_type": "markdown",
   "metadata": {},
   "source": [
    "# Docker VOLUME Continued"
   ]
  },
  {
   "cell_type": "markdown",
   "metadata": {},
   "source": [
    "In this exercise, we're going to add a few methods to our _main.py_ `HistoryStore` class to also store a list of input files that it has processed. This table is later used no ensure that we don't process the same file twice. We store the md5 hash of data files into a database table; before processing a new file, we check if the same md5 hash already exists in our table.\n",
    "\n",
    "Take a look at _data/ex6/main.py_. We've added some new methods to our `HistoryStore` class:\n",
    "\n",
    "- `md5()`: calculates the md5 hash on a file.\n",
    "- `insert_file()`: inserts a new file and its md5 hash into a table\n",
    "- `check_file()`: checks the table an existing file and md5 hash\n",
    "\n",
    "Start a fresh directory and copy our source files into it:"
   ]
  },
  {
   "cell_type": "code",
   "execution_count": null,
   "metadata": {},
   "outputs": [],
   "source": [
    "mkdir docker/my-ex6\n",
    "cp -r docker/ex6/* docker/my-ex6/"
   ]
  },
  {
   "cell_type": "markdown",
   "metadata": {},
   "source": [
    "Build the image:"
   ]
  },
  {
   "cell_type": "code",
   "execution_count": null,
   "metadata": {},
   "outputs": [],
   "source": [
    "cd docker/my-ex6\n",
    "\n",
    "# build your image\n",
    "docker build --rm -f Dockerfile -t dsa-deb-docker:ex6 ."
   ]
  },
  {
   "cell_type": "markdown",
   "metadata": {},
   "source": [
    "In addition to mounting our previous history volume, we're doing to mount an _input/_ directory that contains different source airport data files. These files reside in your _deb/ch5/ep2/data_ folder. There should be a file for each US State.\n",
    "\n",
    "Run the docker container using different files and observe that no same data file is processed twice:"
   ]
  },
  {
   "cell_type": "code",
   "execution_count": null,
   "metadata": {},
   "outputs": [],
   "source": [
    "# go to the root ep2 folder\n",
    "cd deb/ch5/ep2\n",
    "\n",
    "# attach history volume and data files volume\n",
    "docker run -v history-db:/data -v $(pwd)/data:/input dsa-deb-docker:ex6 print -i /input/deb-airports-NY.csv -n 25\n",
    "# if you run the same input file, the script exits\n",
    "docker run -v history-db:/data -v $(pwd)/data:/input dsa-deb-docker:ex6 print -i /input/deb-airports-NY.csv -n 25\n",
    "# run another file\n",
    "docker run -v history-db:/data -v $(pwd)/data:/input dsa-deb-docker:ex6 print -i /input/deb-airports-CA.csv\n",
    "docker run -v history-db:/data -v $(pwd)/data:/input dsa-deb-docker:ex6 history"
   ]
  }
 ],
 "metadata": {
  "language_info": {
   "codemirror_mode": {
    "name": "ipython",
    "version": 3
   },
   "file_extension": ".py",
   "mimetype": "text/x-python",
   "name": "python",
   "nbconvert_exporter": "python",
   "pygments_lexer": "ipython3",
   "version": 3
  },
  "orig_nbformat": 2
 },
 "nbformat": 4,
 "nbformat_minor": 2
}
