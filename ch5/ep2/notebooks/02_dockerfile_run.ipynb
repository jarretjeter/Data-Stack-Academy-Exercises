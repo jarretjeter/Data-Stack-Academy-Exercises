{
 "cells": [
  {
   "cell_type": "markdown",
   "metadata": {},
   "source": [
    "# Dockerfile Example 2\n",
    "\n",
    "In this exercise, you'll learn how to build a simple docker image that runs a simple python script. This image will:\n",
    "\n",
    "1. Base from python:3.7 base docker image\n",
    "1. Adds a simple python script along with a data file\n",
    "1. Runs the python script upon executing docker run\n",
    "\n",
    "Start another fresh directory named _docker/my-ex2/_ and copy data files into it:\n"
   ]
  },
  {
   "cell_type": "code",
   "execution_count": null,
   "metadata": {},
   "outputs": [],
   "source": [
    "mkdir -p docker/my-ex2\n",
    "cp -r docker/ex2/* docker/my-ex2/"
   ]
  },
  {
   "cell_type": "markdown",
   "metadata": {},
   "source": [
    "Now create an empty file called `Dockerfile` under _docker/my-ex1/_ and add the following instructions:"
   ]
  },
  {
   "cell_type": "code",
   "execution_count": null,
   "metadata": {},
   "outputs": [],
   "source": [
    "# base form python3.7 image\n",
    "FROM python:3.7.10-slim-buster\n",
    "\n",
    "# set the working directory\n",
    "WORKDIR /home\n",
    "\n",
    "# add source files to the image\n",
    "COPY * ./\n",
    "\n",
    "# install pip requirements\n",
    "RUN pip3 install --no-cache-dir -r requirements.txt\n",
    "\n",
    "# run the script \n",
    "CMD [\"python\", \"main.py\"]"
   ]
  },
  {
   "cell_type": "markdown",
   "metadata": {},
   "source": [
    "Build and run your image:"
   ]
  },
  {
   "cell_type": "code",
   "execution_count": null,
   "metadata": {},
   "outputs": [],
   "source": [
    "# go to your docker content dir\n",
    "cd docker/my-ex2\n",
    "\n",
    "# build your image\n",
    "docker build --rm -f Dockerfile -t dsa-deb-dockerfile-intro:ex2 .\n",
    "\n",
    "# run your image\n",
    "docker run --rm dsa-deb-dockerfile-intro:ex2"
   ]
  }
 ],
 "metadata": {
  "kernelspec": {
   "display_name": "venv",
   "language": "python",
   "name": "venv"
  },
  "language_info": {
   "codemirror_mode": {
    "name": "ipython",
    "version": 3
   },
   "file_extension": ".py",
   "mimetype": "text/x-python",
   "name": "python",
   "nbconvert_exporter": "python",
   "pygments_lexer": "ipython3",
   "version": "3.7.10"
  }
 },
 "nbformat": 4,
 "nbformat_minor": 5
}
