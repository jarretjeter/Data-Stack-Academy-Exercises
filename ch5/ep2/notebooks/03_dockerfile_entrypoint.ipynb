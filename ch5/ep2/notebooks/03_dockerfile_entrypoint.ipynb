{
 "cells": [
  {
   "cell_type": "markdown",
   "id": "7f748c0b",
   "metadata": {},
   "source": []
  },
  {
   "cell_type": "markdown",
   "metadata": {},
   "source": [
    "# ENTRYPOINT\n",
    "\n",
    "\n",
    "Take a look at _docker/ex3/_ dir. It includes a _main.py_ script which reads a source airports file and prints its content to the screen. The script uses python `argparse` module to accept command line arguments such as:\n",
    "\n",
    "- the first argument is the action that the script takes and should be either: _print_ or _version_\n",
    "- `-i` argument specifies the name of the input file to process\n",
    "- `-n` sets number of rows to print\n",
    "- `-fs` filters airports by a specific state\n",
    "\n",
    "Try running the _main.py_ to get familiar with its arguments:\n",
    "\n",
    "```bash\n",
    "cd docker/ex3\n",
    "\n",
    "# make sure that you're using a virtualenv with requirements.txt installed\n",
    "\n",
    "# print version\n",
    "python3 main.py version\n",
    "\n",
    "# print 20 rows\n",
    "python3 main.py print -n 20 -i deb-airports.csv\n",
    "\n",
    "\n",
    "# filter only Oregon (OR) airports and print 5 rows\n",
    "python3 main.py print -n 5 -i deb-airports.csv -fs OR\n",
    "```\n",
    "\n",
    "Now start a clean directory and copy our example files into it:\n"
   ]
  },
  {
   "cell_type": "code",
   "execution_count": null,
   "metadata": {},
   "outputs": [],
   "source": [
    "mkdir docker/my-ex3\n",
    "cp -r docker/ex3/* docker/my-ex3/"
   ]
  },
  {
   "cell_type": "markdown",
   "metadata": {},
   "source": [
    "Start a new _Dockerfile_ and add the following instruction:"
   ]
  },
  {
   "cell_type": "code",
   "execution_count": null,
   "metadata": {},
   "outputs": [],
   "source": [
    "FROM python:3.7.10-slim-buster\n",
    "\n",
    "# set the working directory\n",
    "WORKDIR /home\n",
    "\n",
    "# add source files to the image\n",
    "COPY * /home/\n",
    "\n",
    "# install pip requirements\n",
    "RUN pip3 install --no-cache-dir -r requirements.txt\n",
    "\n",
    "# add an ENTRYPOINT with default args as its CMD\n",
    "ENTRYPOINT [\"python\", \"main.py\"]\n",
    "CMD [\"print\", \"-n\", \"10\"]"
   ]
  },
  {
   "cell_type": "markdown",
   "metadata": {},
   "source": [
    "Build and run the image"
   ]
  },
  {
   "cell_type": "code",
   "execution_count": null,
   "metadata": {},
   "outputs": [],
   "source": [
    "cd docker/my-ex3\n",
    "\n",
    "# build your image\n",
    "docker build --rm -f Dockerfile -t dsa-deb-docker:ex3 .\n",
    "\n",
    "\n",
    "# without a CMD, running the default ENTRYPOINT/CMD\n",
    "docker run --rm dsa-deb-docker:ex3\n",
    "\n",
    "# print version instead\n",
    "docker run --rm dsa-deb-docker:ex3 version\n",
    "\n",
    "# filter WA state airports and print 7\n",
    "docker run --rm dsa-deb-docker:ex3 print -n 7 -fs WA"
   ]
  },
  {
   "cell_type": "markdown",
   "id": "764af275",
   "metadata": {},
   "source": [
    "## ENTRYPOINT syntax \n",
    "\n",
    "You can use ENTRYPOINT with or without brackets:\n",
    "\n",
    "- `ENTRYPOINT [\"python\", \"main.py\"]`\n",
    "- `ENTRYPOINT python main.py` (this is called the **shell** mode)\n",
    "\n",
    "When you use ENTRYPOINT without brackets you use the default `/bin/sh` to launch the program. This is equivalent to: \n",
    "`ENTRYPOINT [\"/bin/sh\", \"-c\", \"python\", \"main.py\"]`\n",
    "\n",
    "There are draw backs to using the shell mode; for example SIGTERM signal to kill the container does not work with `/bin/sh`. Best practice is **always use brackets**.\n"
   ]
  }
 ],
 "metadata": {
  "kernelspec": {
   "display_name": "venv",
   "language": "python",
   "name": "venv"
  },
  "language_info": {
   "codemirror_mode": {
    "name": "ipython",
    "version": 3
   },
   "file_extension": ".py",
   "mimetype": "text/x-python",
   "name": "python",
   "nbconvert_exporter": "python",
   "pygments_lexer": "ipython3",
   "version": "3.7.10"
  }
 },
 "nbformat": 4,
 "nbformat_minor": 5
}
