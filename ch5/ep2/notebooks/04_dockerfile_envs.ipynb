{
 "cells": [
  {
   "cell_type": "markdown",
   "metadata": {},
   "source": [
    "# ENV Variables"
   ]
  },
  {
   "cell_type": "markdown",
   "metadata": {},
   "source": [
    "You already know that you can pass configuration variables to a docker container in the form of environment variables via _docker run_ `-e` option. Now, we're going to show you how to use these variables inside your _Dockerfile_.\n",
    "\n",
    "We're going to use the same _main.py_ script from the previous exercise (to read and print an airport data file); with the minor difference that the default values for _--input_ file and _--num-rows_ parameters are now driven from environment variables. Take a look at _lines 32 and 33_ of _main.py_.\n",
    "\n",
    "Start a fresh directory called _docker/my-ex4_ and copy our source files into it:"
   ]
  },
  {
   "cell_type": "code",
   "execution_count": null,
   "metadata": {},
   "outputs": [],
   "source": [
    "mkdir docker/my-ex4\n",
    "cp -r docker/ex4/* docker/my-ex4/"
   ]
  },
  {
   "cell_type": "markdown",
   "metadata": {},
   "source": [
    "Start a new _Dockerfile_ and add the following instruction:"
   ]
  },
  {
   "cell_type": "code",
   "execution_count": null,
   "metadata": {},
   "outputs": [],
   "source": [
    "FROM python:3.7.10-slim-buster\n",
    "\n",
    "# adding env variables with default values\n",
    "ENV INPUT_FILE=\"/home/deb-airports.csv\" \\\n",
    "    NUM_ROWS=10\n",
    "\n",
    "# set the working directory\n",
    "WORKDIR /home\n",
    "\n",
    "# add source files to the image\n",
    "COPY * /home/\n",
    "\n",
    "# install pip requirements\n",
    "RUN pip3 install -r requirements.txt\n",
    "\n",
    "# add an ENTRYPOINT\n",
    "ENTRYPOINT [\"python\", \"main.py\"]\n",
    "CMD [\"print\"]"
   ]
  },
  {
   "cell_type": "markdown",
   "metadata": {},
   "source": [
    "**NOTE**:\n",
    "\n",
    "- Here we use the `ENV` command to set the default values for INPUT_FILE and NUM_ROWS environment variables\n",
    "- Since these values are set to be the default, our `CMD` instructions skips setting them\n",
    "\n",
    "Build and run your image:"
   ]
  },
  {
   "cell_type": "code",
   "execution_count": null,
   "metadata": {},
   "outputs": [],
   "source": [
    "cd docker/my-ex4\n",
    "\n",
    "# build your image\n",
    "docker build --rm -f Dockerfile -t dsa-deb-docker:ex4 .\n",
    "\n",
    "# without a CMD, running the default ENV variables\n",
    "docker run --rm dsa-deb-docker:ex4\n",
    "\n",
    "# set the ENV variables\n",
    "docker run --rm -e NUM_ROWS=25 dsa-deb-docker:ex4\n",
    "\n",
    "# setting input file to a something that doesn't exist! this will error\n",
    "docker run --rm -e INPUT_FILE=no-airports.csv dsa-deb-docker:ex4"
   ]
  }
 ],
 "metadata": {
  "kernelspec": {
   "display_name": "venv",
   "language": "python",
   "name": "venv"
  },
  "language_info": {
   "codemirror_mode": {
    "name": "ipython",
    "version": 3
   },
   "file_extension": ".py",
   "mimetype": "text/x-python",
   "name": "python",
   "nbconvert_exporter": "python",
   "pygments_lexer": "ipython3",
   "version": "3.7.10"
  }
 },
 "nbformat": 4,
 "nbformat_minor": 5
}
