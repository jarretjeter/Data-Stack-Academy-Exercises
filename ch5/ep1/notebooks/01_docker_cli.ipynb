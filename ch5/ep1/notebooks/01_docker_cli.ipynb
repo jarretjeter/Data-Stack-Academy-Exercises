{
 "cells": [
  {
   "cell_type": "markdown",
   "metadata": {},
   "source": [
    "# Docker CLI\n"
   ]
  },
  {
   "cell_type": "markdown",
   "id": "33de4198",
   "metadata": {},
   "source": [
    "## Docker Pull and Run\n",
    "\n",
    "To test your docker installation"
   ]
  },
  {
   "cell_type": "code",
   "execution_count": null,
   "metadata": {},
   "outputs": [],
   "source": [
    "docker run hello-world"
   ]
  },
  {
   "cell_type": "markdown",
   "metadata": {},
   "source": [
    "Let's look at another basic image called _busybox_. Run `busybox` docker image and print a message to the screen:"
   ]
  },
  {
   "cell_type": "code",
   "execution_count": null,
   "metadata": {},
   "outputs": [],
   "source": [
    "# pull down the busybox image locally\n",
    "docker pull busybox\n",
    "\n",
    "# run the busybox image. nothing happens! \n",
    "docker run busybox\n",
    "\n",
    "# print a basic hello message!\n",
    "docker run busybox echo \"hello from busybox\"\n",
    "\n",
    "# list the home directory of busybox\n",
    "docker run busybox ls /\n",
    "\n",
    "# using additional run options:\n",
    "# add a --rm option to remove the running container from docker immediately after run\n",
    "docker run --rm busybox echo \"Wish you were here... swimming in a fish bowl year after year\""
   ]
  },
  {
   "cell_type": "markdown",
   "metadata": {},
   "source": [
    "When you use docker pull or run, docker downloads a copy of the image from docker hub onto your local machine. To see a list of your local images you can use the `docker images` command:"
   ]
  },
  {
   "cell_type": "code",
   "execution_count": null,
   "metadata": {},
   "outputs": [],
   "source": [
    "# see a list of local images\n",
    "docker images\n",
    "\n",
    "\n",
    "REPOSITORY                  TAG           IMAGE ID       CREATED        SIZE\n",
    "hello-world                 latest        feb5d9fea6a5   5 weeks ago    13.3kB\n",
    "busybox                     latest        388056c9a683   6 months ago   1.23MB\n",
    "\n",
    "\n",
    "# run images with specific tags (versions)\n",
    "# ----------------------------------------\n",
    "# run the latest version (currently this is 3.10)\n",
    "docker run python:latest python3 -V\n",
    "\n",
    "# run python 3.9\n",
    "docker run python:3.9 python3 -V"
   ]
  },
  {
   "cell_type": "markdown",
   "id": "154640ba",
   "metadata": {},
   "source": [
    "## Docker ps and rm\n",
    "\n",
    "1. List running and exited docker containers. \n",
    "1. Remove dangling containers\n",
    "1. Remove images\n",
    "1. Housekeeping with _'system prune'_"
   ]
  },
  {
   "cell_type": "code",
   "execution_count": null,
   "metadata": {},
   "outputs": [],
   "source": [
    "# show a list of running containers\n",
    "# it's ok if you don't see anything! That just means there's no actively running containers\n",
    "docker ps \n",
    "\n",
    "CONTAINER ID   IMAGE     COMMAND   CREATED   STATUS    PORTS     NAMES\n",
    "\n",
    "# show a list all containers including exited containers\n",
    "docker ps -a\n",
    "\n",
    "\n",
    "CONTAINER ID   IMAGE         COMMAND                  CREATED          STATUS                      PORTS     NAMES\n",
    "3b88d917feda   busybox       \"echo 'hello from bu…\"   7 seconds ago    Exited (0) 7 seconds ago              musing_lewin\n",
    "b11b28aa818e   hello-world   \"/hello\"                 20 seconds ago   Exited (0) 20 seconds ago             upbeat_bassi\n",
    "2ff40ce83e43   busybox       \"ls /\"                   26 seconds ago   Exited (0) 25 seconds ago             interesting_jepsen\n",
    "\n",
    "\n",
    "# remove a container by ID\n",
    "docker rm -vf 3b88d917feda\n",
    "\n",
    "# remove a container by NAME\n",
    "docker rm -vf upbeat_bassi\n",
    "\n",
    "# remove an image by <name>:<tag>\n",
    "docker rmi hello-world:latest\n",
    "\n",
    "# big housekeeping command\n",
    "docker system prune -f"
   ]
  },
  {
   "cell_type": "markdown",
   "id": "41214626",
   "metadata": {},
   "source": [
    "## Docker run with Terminal Access\n",
    "\n",
    "When running docker containers with `docker run` you can use the `-it` option to gain terminal access inside the running container. _`-it`_ is short for _--interactive_ _--terminal_."
   ]
  },
  {
   "cell_type": "code",
   "execution_count": null,
   "metadata": {},
   "outputs": [],
   "source": [
    "# pull the latest ubuntu image (currently ubuntu 20.04 focal)\n",
    "docker pull ubuntu:latest\n",
    "\n",
    "# run docker with -it\n",
    "# pay attention, this command also starts a /bin/bash session upon docker run entry\n",
    "docker run -it --rm ubuntu:latest /bin/bash\n",
    "```\n",
    "\n",
    "Now, you are inside the ubuntu container terminal. You can run any ubuntu command inside the container and exit:\n",
    "\n",
    "```bash\n",
    "> ls\n",
    "bin  boot  dev  etc  home  lib  lib32  lib64  libx32  media  mnt  opt  proc  root  run  sbin  srv  sys  tmp  usr  var\n",
    "\n",
    "> uname -a\n",
    "Linux e5af9e019b09 5.11.0-38-generic #42~20.04.1-Ubuntu SMP Tue Sep 28 20:41:07 UTC 2021 x86_64 x86_64 x86_64 GNU/Linux\n",
    "\n",
    "> cat /etc/os-release \n",
    "NAME=\"Ubuntu\"\n",
    "VERSION=\"20.04.2 LTS (Focal Fossa)\"\n",
    "ID=ubuntu\n",
    "ID_LIKE=debian\n",
    "PRETTY_NAME=\"Ubuntu 20.04.2 LTS\"\n",
    "VERSION_ID=\"20.04\"\n",
    "HOME_URL=\"https://www.ubuntu.com/\"\n",
    "SUPPORT_URL=\"https://help.ubuntu.com/\"\n",
    "BUG_REPORT_URL=\"https://bugs.launchpad.net/ubuntu/\"\n",
    "PRIVACY_POLICY_URL=\"https://www.ubuntu.com/legal/terms-and-policies/privacy-policy\"\n",
    "VERSION_CODENAME=focal\n",
    "UBUNTU_CODENAME=focal\n",
    "\n",
    "> exit\n",
    "exit"
   ]
  },
  {
   "cell_type": "markdown",
   "metadata": {},
   "source": [
    "## Detached containers and Docker Exec\n",
    "\n",
    "Another feature of _docker run_ is running containers in detached mode or in background. Containers in detached mode keep running in the background. This is very useful for containers such as web servers which need to continuously run in the background waiting for http requests. Users can later use `docker exec` to attach to a running container and gain terminal access. \n",
    "\n",
    "The following example shows:\n",
    "\n",
    "1. Running an ubuntu bash session in detached mode\n",
    "1. Listing containers to see the container continues to run in the background\n",
    "1. Using _'docker exec'_ to gain terminal access to the container\n",
    "1. Killing and removing the container from the background"
   ]
  },
  {
   "cell_type": "code",
   "execution_count": null,
   "metadata": {},
   "outputs": [],
   "source": [
    "# a little housekeeping first, remove all dangling containers for a clean slate\n",
    "docker system prune -f\n",
    "\n",
    "# start a ubuntu bash session in detached mode\n",
    "#   -d: tells docker to run in the container in the background (detached)\n",
    "#   -i: tells docker to keep an --interactive interface open to the container\n",
    "#   --name: names this container my-ubuntu. this is a unique name which should not be used with any other running container\n",
    "docker run -d -i --name my-ubuntu ubuntu:latest /bin/bash\n",
    "\n",
    "# list running containers \n",
    "# see that my-ubuntu container is still running\n",
    "docker ps\n",
    "\n",
    "CONTAINER ID   IMAGE           COMMAND       CREATED         STATUS        PORTS     NAMES\n",
    "b71672c8e9a2   ubuntu:latest   \"/bin/bash\"   3 seconds ago   Up 1 second             my-ubuntu\n",
    "\n",
    "# docker exec runs a command on a running container\n",
    "#   ie: here we cat the os-release info file\n",
    "docker exec my-ubuntu cat /etc/os-release\n",
    "\n",
    "# you can also use exec to run a command and attach to its terminal \n",
    "# ie: here we run a new bash session with interactive terminal access\n",
    "docker exec -it my-ubuntu /bin/bash\n",
    "\n",
    "# now you're inside the image\n",
    "> uname -a\n",
    "Linux e5af9e019b09 5.11.0-38-generic #42~20.04.1-Ubuntu SMP Tue Sep 28 20:41:07 UTC 2021 x86_64 x86_64 x86_64 GNU/Linux\n",
    "\n",
    "> exit\n",
    "\n",
    "# exit the terminal with the exit command above.\n",
    "# Now, you're back at your hots machine\n",
    "\n",
    "# kill/remove the running container\n",
    "docker rm -vf my-ubuntu\n"
   ]
  },
  {
   "cell_type": "markdown",
   "id": "9b89f835",
   "metadata": {},
   "source": [
    "## Docker Volumes\n",
    "\n",
    "One of the advantages of docker containers is that they are like a **_gold fish_**; meaning that they don't remember anything! Once you exit a container, everything in it is lost forever. This is actually very helpful to using them as a sandbox. You can start containers, test anything, and don't worry if you're going to break anything. Once you exit the container everything is lost and you can start a new container for your next test!\n",
    "\n",
    "But what if you want to persist files?\n",
    "\n",
    "You can persist files in between docker runs by one of two ways:\n",
    "\n",
    "1. Mount a directory on the host machine to a directory inside the container\n",
    "1. Use docker volumes which persist in between runs and can be attached to containers\n",
    "\n",
    "Both these two options use the `-v` option of `docker run` and are explained below"
   ]
  },
  {
   "cell_type": "markdown",
   "metadata": {},
   "source": [
    "### Attaching host dirs to containers\n",
    "\n",
    "Now, we're going to:\n",
    "\n",
    "1. Use the docker run `-v` option to mount the data/ directory to a container\n",
    "1. Once a directory is mounted, it can be used as a directory inside the container\n",
    "1. Add line to _names.txt_ file inside the container\n",
    "1. Exit the container and observe our changes are written to our host dir"
   ]
  },
  {
   "cell_type": "code",
   "execution_count": null,
   "metadata": {},
   "outputs": [],
   "source": [
    "# pay attention to the content of your names.txt file on your host machine\\\n",
    "cat data/names.txt\n",
    "\n",
    "# run a container and attach the local data/ directory under container's app-data dir\n",
    "docker run -di --name ubuntu-vol-1 -v $(pwd)/data:/app-data ubuntu /bin/bash\n",
    "\n",
    "# attach to the container and add a line to names.txt under app-data\n",
    "docker exec -it ubuntu-vol-1 /bin/bash\n",
    "\n",
    "\n",
    "# these command are ran inside the container terminal\n",
    "> ls /app-data\n",
    "> echo \"sweet_horizon\" >> /app-data/names.txt\n",
    "> exit\n",
    "\n",
    "\n",
    "# you've exited the container terminal now\n",
    "\n",
    "# examine your names.txt on host machine. see that the new line is added to the end\n",
    "cat data/names.txt\n",
    "\n",
    "# remove the image\n",
    "docker rm -vf ubuntu-vol-1"
   ]
  },
  {
   "cell_type": "markdown",
   "metadata": {},
   "source": [
    "### Using Docker Volumes\n",
    "\n",
    "In addition to using local host dirs, you can use docker volumes as the built-in docker feature to persist storage dirs on container. Similar to host dirs, docker volumes are attached to containers using the `-v` option and they persist their data after the container is exited. The volume can later be attached to another container. \n",
    "\n",
    "Here we will:\n",
    "\n",
    "1. Create a docker volume that persists beyond a single docker container\n",
    "1. Run a container and attached the volume to it\n",
    "1. Modify files inside the volume\n",
    "1. Exit the container and run another container with the same volume attached\n",
    "1. See you changes from the previous run (container)"
   ]
  },
  {
   "cell_type": "code",
   "execution_count": null,
   "metadata": {},
   "outputs": [],
   "source": [
    "# create a new volume\n",
    "docker volume create ub1-data\n",
    "\n",
    "# list exiting volumes\n",
    "docker volume ls\n",
    "DRIVER    VOLUME NAME\n",
    "local     ub1-data\n",
    "\n",
    "# run a container and attach this volume\n",
    "docker run -it --rm -v ub1-data:/app-data ubuntu /bin/bash\n",
    "\n",
    "# add a file into our volume (this is running inside the container)\n",
    "> echo \"a data file that persists!\" > /app-data/file.txt\n",
    "> exit\n",
    "\n",
    "# see that your container has completely exited\n",
    "docker ps -a\n",
    "\n",
    "# run another container and attach the same volume\n",
    "docker run -it --rm -v ub1-data:/app-data ubuntu /bin/bash\n",
    "\n",
    "# run these commands inside the docker container\n",
    "> cat /app-data/file.txt\n",
    "> exit\n",
    "\n",
    "# now delete the volume \n",
    "docker volume rm ub1-data"
   ]
  },
  {
   "cell_type": "markdown",
   "id": "a11b9159",
   "metadata": {},
   "source": [
    "## Working with Environment Variables\n",
    "\n",
    "Another way to pass information to a container is via environment variable. You set and pass in environment variables by using the docker run `-e` option. This is commonly used to pass in configuration information to a container.\n",
    "\n",
    "For example: the [MariaDB](https://hub.docker.com/_/mariadb) docker image uses an environment variable called _MARIADB_ROOT_PASSWORD_ to set the root password for the database. \n",
    "\n",
    "In example below, we will:\n",
    "\n",
    "1. Start a container with a custom print message as an environment variable\n",
    "1. Enter the container terminal and examine the value of our variable\n"
   ]
  },
  {
   "cell_type": "code",
   "execution_count": null,
   "metadata": {},
   "outputs": [],
   "source": [
    "# set a custom environment variable\n",
    "docker run -it --rm -e PRINT_MSG='So, so you think you can tell... heaven from hell?' ubuntu /bin/bash\n",
    "\n",
    "# inside the container terminal\n",
    "> echo $PRINT_MSG\n",
    "> exit"
   ]
  },
  {
   "cell_type": "markdown",
   "id": "e05dc20b",
   "metadata": {},
   "source": [
    "## Exposing Ports\n",
    "\n",
    "Many containers need to expose their ports to the host machine or other containers. This allows containers to communicate with each other or be accessible by the host machine. \n",
    "\n",
    "For example a webserver image (such as _nginx_) needs to expose its default http port 80 to be accessible via a browser on the host machine. \n",
    "\n",
    "Docker run uses the `-p` option to expose ports from a container onto the host. The syntax is `-p <port_on_host>:<post_on_container>`.\n",
    "\n",
    "In the example below, we will:\n",
    "\n",
    "1. Pull down and use the _[nginx](https://hub.docker.com/_/nginx)_ webserver image\n",
    "1. Attached our local /data dir to be hosted as the webserver root folder. This folder contains a _index.html_ file that will be hosted.\n",
    "1. Use the `-p` option to map the container http port (80) onto our host port 8080\n",
    "1. Access the exposed port via a browser on our host machine"
   ]
  },
  {
   "cell_type": "code",
   "execution_count": null,
   "metadata": {},
   "outputs": [],
   "source": [
    "# pull nginx, a static web server\n",
    "docker pull nginx\n",
    "\n",
    "# run a server exposing port 80 of container onto port 8080 of the hots\n",
    "docker run -d --name nginx-server -v $(pwd)/data:/usr/share/nginx/html:ro -p 8080:80 nginx"
   ]
  },
  {
   "cell_type": "markdown",
   "metadata": {},
   "source": [
    "Open a browser and go to [http://localhost:8080/](http://localhost:8080/).\n",
    "\n",
    "You can also get to the same page using the docker network:\n",
    "\n",
    "```bash\n",
    "docker inspect nginx-server | grep IPAddress\n",
    "            \"SecondaryIPAddresses\": null,\n",
    "            \"IPAddress\": \"172.17.0.2\",\n",
    "                    \"IPAddress\": \"172.17.0.2\",\n",
    "```\n",
    "\n",
    "Our container IP address is: _172.17.0.2_. We can view the same page by going to `http://172.17.0.2:80` or just `http://172.17.0.2` since port 80 is the default port.\n",
    "\n",
    "This requires more understanding of docker networking.\n"
   ]
  },
  {
   "cell_type": "markdown",
   "metadata": {},
   "source": [
    "\n",
    "## Exercise\n",
    "\n",
    "Using the [MariaDB](https://hub.docker.com/_/mariadb) docker hub documentation:\n",
    "\n",
    "1. Start a mariadb container in detached mode\n",
    "1. Set its root password to 'lucid_dreams'\n",
    "1. Expose mariadb port 3306 onto the host\n",
    "1. Create a docker volume called _db-files_ and attached to where mariadb stores its database files (read teh docs)\n",
    "1. Connect to the container using _docker exec_ and _mysql_ command line\n",
    "1. Connect to the container using VSCode MySQL extension \n",
    "1. Kill and remove the container and its volume"
   ]
  }
 ],
 "metadata": {
  "interpreter": {
   "hash": "ef6d41ca45deb0851f8d9ac3d5d98c338b78d1a5eeffb5339adc436aa168e22f"
  },
  "kernelspec": {
   "display_name": "Python 3.7.12 64-bit ('venv': venv)",
   "name": "python3"
  },
  "language_info": {
   "codemirror_mode": {
    "name": "ipython",
    "version": 3
   },
   "file_extension": ".py",
   "mimetype": "text/x-python",
   "name": "python",
   "nbconvert_exporter": "python",
   "pygments_lexer": "ipython3",
   "version": "3.7.12"
  }
 },
 "nbformat": 4,
 "nbformat_minor": 5
}
